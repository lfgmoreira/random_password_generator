{
 "cells": [
  {
   "cell_type": "code",
   "execution_count": 37,
   "metadata": {},
   "outputs": [
    {
     "name": "stdout",
     "output_type": "stream",
     "text": [
      "Gerador de senhas aleatórias!\n",
      "\n",
      "Qual o tamanho da senha: 10\n",
      "Sugestão de Senha:  Fx?y7dC(DW\n"
     ]
    }
   ],
   "source": [
    "#importando as bibliotecas para gerar a senha\n",
    "import random\n",
    "import string\n",
    "\n",
    "print(\"Gerador de senhas aleatórias!\")\n",
    "\n",
    "letras_minusculas = string.ascii_lowercase #armazenando todas as letras minusculas\n",
    "letras_maiusculas = string.ascii_uppercase #armazenando todas as letras maiusculas\n",
    "numeros = string.digits #armazenando todos os numeros\n",
    "pontuacoes = string.punctuation #armazenando todas as pontuações\n",
    "\n",
    "#combinando todas letras, numeros e pontuações em uma unica variável\n",
    "todos = letras_minusculas + letras_maiusculas + numeros + pontuacoes \n",
    "\n",
    "#definindo o tamanho da senha\n",
    "tamanho = int(input('\\nQual o tamanho da senha: '))\n",
    "\n",
    "#gerando a senha\n",
    "senha = \"\".join(random.sample(todos, tamanho))\n",
    "\n",
    "#escrevendo a senha \n",
    "print(\"Sugestão de Senha: \", senha)"
   ]
  },
  {
   "cell_type": "code",
   "execution_count": null,
   "metadata": {},
   "outputs": [],
   "source": []
  },
  {
   "cell_type": "code",
   "execution_count": null,
   "metadata": {},
   "outputs": [],
   "source": []
  }
 ],
 "metadata": {
  "kernelspec": {
   "display_name": "Python 3",
   "language": "python",
   "name": "python3"
  },
  "language_info": {
   "codemirror_mode": {
    "name": "ipython",
    "version": 3
   },
   "file_extension": ".py",
   "mimetype": "text/x-python",
   "name": "python",
   "nbconvert_exporter": "python",
   "pygments_lexer": "ipython3",
   "version": "3.8.3"
  }
 },
 "nbformat": 4,
 "nbformat_minor": 4
}
